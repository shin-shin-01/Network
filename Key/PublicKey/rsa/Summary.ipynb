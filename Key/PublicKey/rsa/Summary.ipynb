{
 "cells": [
  {
   "cell_type": "markdown",
   "metadata": {},
   "source": [
    "## RSA (Rivest Shamir Adleman)\n",
    "大きい数(下記N)での素因数分解の困難さを安全性の根拠とする<br>\n",
    "鍵長 2,048 bit 以上を推奨"
   ]
  },
  {
   "cell_type": "markdown",
   "metadata": {},
   "source": [
    "### 1. 事前知識\n",
    "#### フェルマーの小定理\n",
    "二項定理を用いた数学的帰納法で証明可能"
   ]
  },
  {
   "cell_type": "markdown",
   "metadata": {},
   "source": [
    "- $p$ が素数，$a$が任意の自然数のとき \n",
    "$$a^{p}≡a\\ mod\\ p$$"
   ]
  },
  {
   "cell_type": "markdown",
   "metadata": {},
   "source": [
    "- 特に$p$が素数で，$a$が$p$と互いに素な自然数のとき\n",
    "$$a^{p−1}≡1\\ mod\\ p$$"
   ]
  },
  {
   "cell_type": "markdown",
   "metadata": {},
   "source": [
    "#### 有名な定理\n",
    "\n",
    "$a$と$b$が互いに素なとき \\\n",
    "$ ax ≡ 1\\ mod\\ b$　なる$x$が　$1≦x≦b-1$　の間ではただ一つ存在する \\\n",
    "[ 証明 ]\\\n",
    "上記範囲における$ax$に対する各項の減算について，$(x_i-x_j)a≡0\\ mod\\ b$ となるものは存在しない"
   ]
  },
  {
   "cell_type": "markdown",
   "metadata": {},
   "source": [
    "### 2. RSA暗号の仕組み\n",
    "\n",
    "- 公開鍵　$\\{n, k_1\\}$,　秘密鍵　$\\{n, k_2\\}$\n",
    "\n",
    "#### 鍵生成方法\n",
    "- 大きな素数　$p, q$　を生成し　$n=pq$　とする\n",
    "- $(p-1)(q-1)$　と互いに素な整数　$k_1$　を生成する\n",
    "- $k_1k_2≡1\\ mod\\ (p-1)(q-1)$　となる　$k_2$　を生成する"
   ]
  },
  {
   "cell_type": "markdown",
   "metadata": {},
   "source": [
    " →　Message : M　暗号文 : C　として\n",
    "\n",
    "#### 暗号化\n",
    "$ C\\ =\\ M^{k_1}\\ mod\\ n$\n",
    "#### 複号化\n",
    "$ M\\ =\\ C^{K_2}\\ mod\\ n$"
   ]
  },
  {
   "cell_type": "markdown",
   "metadata": {},
   "source": [
    "### 3. 復号の原理\n",
    "$ M≡M^{k_1k_2}\\ mod\\ n$　を満たせば良い\\\n",
    "$n = pq$　かつ　$p,\\ q$　の対称性より　$ M≡M^{k_1k_2}\\ mod\\ p$　を示す\n",
    "\n",
    "- $M$　が　$p$　の倍数のときは両辺ともに　$p$　の倍数より自明\n",
    "- $M$　が　$p$　の倍数でないとき\n",
    "\n",
    "$k_1k_2-1$　が　$(p-1)$　の倍数より整数$N$を用いて　$k_1k_2=1+(p-1)N$　とおけるため\\\n",
    "$$M^{k_1k_2}=M・(M^{p-1})^{N}≡M・1^{N} = M$$\n"
   ]
  },
  {
   "cell_type": "markdown",
   "metadata": {},
   "source": [
    "## 以下，実装上のメモ"
   ]
  },
  {
   "cell_type": "code",
   "execution_count": 38,
   "metadata": {},
   "outputs": [
    {
     "name": "stdout",
     "output_type": "stream",
     "text": [
      "First Function 9.266963451000265\n",
      "Second Function 2.0328111769995303\n"
     ]
    }
   ],
   "source": [
    "## 暗号化計算に関して計算速度がかなり違う\n",
    "import timeit\n",
    "\n",
    "## これ以上桁増やすとFirstFunctionタイムオーバーする\n",
    "n = 67280\n",
    "m = 210\n",
    "mod = 670\n",
    "\n",
    "def original_pow_mod():\n",
    "    return n ** m % mod\n",
    "\n",
    "def pow_mod():\n",
    "    return pow(n, m, mod)\n",
    "\n",
    "print('First Function', \n",
    "timeit.timeit('original_pow_mod()', setup='from __main__ import original_pow_mod'))\n",
    "print('Second Function', \n",
    "timeit.timeit('pow_mod()', setup='from __main__ import pow_mod'))"
   ]
  },
  {
   "cell_type": "code",
   "execution_count": 43,
   "metadata": {},
   "outputs": [
    {
     "name": "stdout",
     "output_type": "stream",
     "text": [
      "97\n",
      "a\n"
     ]
    }
   ],
   "source": [
    "## Unicode値に変換 \n",
    "\n",
    "print(ord('a'))\n",
    "print(chr(97))"
   ]
  },
  {
   "cell_type": "code",
   "execution_count": null,
   "metadata": {},
   "outputs": [],
   "source": []
  }
 ],
 "metadata": {
  "kernelspec": {
   "display_name": "Python 3",
   "language": "python",
   "name": "python3"
  },
  "language_info": {
   "codemirror_mode": {
    "name": "ipython",
    "version": 3
   },
   "file_extension": ".py",
   "mimetype": "text/x-python",
   "name": "python",
   "nbconvert_exporter": "python",
   "pygments_lexer": "ipython3",
   "version": "3.7.4"
  }
 },
 "nbformat": 4,
 "nbformat_minor": 4
}
